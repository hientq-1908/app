{
 "cells": [
  {
   "cell_type": "code",
   "execution_count": 3,
   "metadata": {},
   "outputs": [],
   "source": [
    "%load_ext autoreload\n",
    "%autoreload 2"
   ]
  },
  {
   "cell_type": "code",
   "execution_count": 9,
   "metadata": {},
   "outputs": [
    {
     "name": "stdout",
     "output_type": "stream",
     "text": [
      "loaded\n"
     ]
    }
   ],
   "source": [
    "from trainer import Trainer\n",
    "from network import ResUnet\n",
    "from dataset import CrackDataset\n",
    "from torch.utils.data import random_split\n",
    "import torch\n",
    "import matplotlib.pyplot as plt\n",
    "img_dir = 'dataset\\cracktile'\n",
    "train_ratio = 0.8\n",
    "dataset = CrackDataset(img_dir)\n",
    "train_len = int(len(dataset)*train_ratio)\n",
    "eval_len = len(dataset) - train_len\n",
    "train_set, eval_set = random_split(dataset, [train_len, eval_len])\n",
    "\n",
    "model = ResUnet(n_classes=1)\n",
    "device = torch.device('cuda' if torch.cuda.is_available() else 'cpu')\n",
    "trainer = Trainer(\n",
    "    model,\n",
    "    train_set,\n",
    "    eval_set,\n",
    "    device\n",
    ")\n",
    "trainer.load_checkpoint('checkpoint\\epoch_40')\n"
   ]
  },
  {
   "cell_type": "code",
   "execution_count": null,
   "metadata": {},
   "outputs": [],
   "source": [
    "dataset = CrackDataset('dataset\\crackconcrete', mode='test')"
   ]
  },
  {
   "cell_type": "code",
   "execution_count": 13,
   "metadata": {},
   "outputs": [],
   "source": [
    "pretrained_model = trainer.model\n",
    "image, label = train_set[0]\n",
    "pred = pretrained_model(image.unsqueeze(0))\n",
    "probs = torch.sigmoid(pred)\n",
    "masks = torch.where(probs>0.5, 1, 0).squeeze().detach()\n",
    "fig, axis = plt.subplots(1, 3)\n",
    "axis[0].imshow(dataset.reverse_tranform(image))\n",
    "axis[1].imshow(masks)\n",
    "axis[2].imshow(label)\n",
    "plt.axis('off')\n",
    "# plt.show()"
   ]
  },
  {
   "cell_type": "code",
   "execution_count": null,
   "metadata": {},
   "outputs": [],
   "source": []
  },
  {
   "cell_type": "code",
   "execution_count": null,
   "metadata": {},
   "outputs": [],
   "source": []
  }
 ],
 "metadata": {
  "interpreter": {
   "hash": "212f27c31e9aba786c50fd1a8fa73ff45033ade89e6dac14a40daaefb402be73"
  },
  "kernelspec": {
   "display_name": "Python 3.9.12 ('myenv')",
   "language": "python",
   "name": "python3"
  },
  "language_info": {
   "codemirror_mode": {
    "name": "ipython",
    "version": 3
   },
   "file_extension": ".py",
   "mimetype": "text/x-python",
   "name": "python",
   "nbconvert_exporter": "python",
   "pygments_lexer": "ipython3",
   "version": "3.9.12"
  },
  "orig_nbformat": 4
 },
 "nbformat": 4,
 "nbformat_minor": 2
}
